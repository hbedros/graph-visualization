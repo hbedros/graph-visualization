{
 "cells": [
  {
   "cell_type": "markdown",
   "metadata": {},
   "source": [
    "# Week 2 Part 1 Assignment Graph Visualization\n",
    "\n",
    "1. Load a graph database of your choosing from a text file or other source.  If you take a large network dataset from the web (such as from Stanford Large Network Dataset Collection), please feel free at this point to load just a small subset of the nodes and edges."
   ]
  },
  {
   "cell_type": "code",
   "execution_count": 8,
   "metadata": {},
   "outputs": [
    {
     "name": "stdout",
     "output_type": "stream",
     "text": [
      "Number of nodes: 4039\n",
      "Number of edges: 88234\n"
     ]
    }
   ],
   "source": [
    "# data from facebook's social circles - https://snap.stanford.edu/data/ego-Facebook.html\n",
    "\n",
    "import networkx as nx\n",
    "import matplotlib.pyplot as plt\n",
    "import requests\n",
    "\n",
    "url = 'https://raw.githubusercontent.com/hbedros/graph-visualization/main/facebook_combined.txt'\n",
    "\n",
    "# Load the data\n",
    "def load_graph_from_url(url):\n",
    "    response = requests.get(url)\n",
    "    with open('facebook_combined.txt', 'wb') as f:\n",
    "        f.write(response.content)\n",
    "    graph = nx.read_edgelist('facebook_combined.txt', nodetype=int)\n",
    "    return graph\n",
    "\n",
    "graph = load_graph_from_url(url)\n",
    "\n",
    "print(f\"Number of nodes: {graph.number_of_nodes()}\")\n",
    "print(f\"Number of edges: {graph.number_of_edges()}\")"
   ]
  },
  {
   "cell_type": "markdown",
   "metadata": {},
   "source": [
    "2. Create basic analysis on the graph, including the graph’s diameter, and at least one other metric of your choosing.  You may either code the functions by hand (to build your intuition and insight), or use functions in an existing package. "
   ]
  },
  {
   "cell_type": "code",
   "execution_count": 9,
   "metadata": {},
   "outputs": [
    {
     "name": "stdout",
     "output_type": "stream",
     "text": [
      "Diameter of the graph: 8\n",
      "Average clustering coefficient: 0.6055\n"
     ]
    }
   ],
   "source": [
    "# From Networkx Library: Using the diameter fucntion\n",
    "if nx.is_connected(graph):\n",
    "    diameter = nx.diameter(graph)\n",
    "    print(f\"Diameter of the graph: {diameter}\")\n",
    "\n",
    "# From Networkx Library: Using the average clustering fucntion\n",
    "avg_clustering_coefficient = nx.average_clustering(G)\n",
    "print(f\"Average clustering coefficient: {avg_clustering_coefficient:.4f}\")"
   ]
  },
  {
   "cell_type": "markdown",
   "metadata": {},
   "source": [
    "3. Use a visualization tool of your choice to display information. Use NetworkX directly or pyviz or another tool. You can try Gephi too if you like or Neo4j but you should get used to use the Python toolset"
   ]
  },
  {
   "cell_type": "code",
   "execution_count": null,
   "metadata": {},
   "outputs": [],
   "source": [
    "# Plot\n",
    "plt.figure(figsize=(10, 10))\n",
    "nx.draw(graph, with_labels=True, node_size=500, node_color='lightblue', font_size=10, font_color='black', edge_color='gray')\n",
    "plt.title('Graph Visualization')\n",
    "plt.show()"
   ]
  }
 ],
 "metadata": {
  "kernelspec": {
   "display_name": "Python 3",
   "language": "python",
   "name": "python3"
  },
  "language_info": {
   "codemirror_mode": {
    "name": "ipython",
    "version": 3
   },
   "file_extension": ".py",
   "mimetype": "text/x-python",
   "name": "python",
   "nbconvert_exporter": "python",
   "pygments_lexer": "ipython3",
   "version": "3.12.2"
  }
 },
 "nbformat": 4,
 "nbformat_minor": 2
}
